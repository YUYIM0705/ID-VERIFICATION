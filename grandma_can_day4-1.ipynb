{
 "cells": [
  {
   "cell_type": "code",
   "execution_count": 27,
   "metadata": {},
   "outputs": [
    {
     "name": "stdout",
     "output_type": "stream",
     "text": [
      "歡迎使用健康綜合計算機\n",
      "(1)計算bmi\n",
      "(2)計算bmr\n",
      "(3)計算tdee\n",
      "(1)久坐，幾乎沒運動\n",
      "(2)每周低強度運動1-3天\n",
      "(3)每周中強度運動3-5天\n",
      "(4)每周高強度運動6-7天\n",
      "(5)勞力密集工作強度或是每天高強度訓練\n",
      "您的tdee:1559.64\n"
     ]
    }
   ],
   "source": [
    "def get_bmi(height,weight):\n",
    "    bmi = int(weight)/(int(height)/100)**2\n",
    "    bmi = round(bmi,1)\n",
    "    return bmi\n",
    "    \n",
    "\n",
    "def get_bmr(sex,height,weight,age):\n",
    "    if sex == '男':\n",
    "        bmr = 66+(13.7*int(weight)+5*int(height)-6.8*int(age))\n",
    "    else:\n",
    "        bmr = 655+(9.6*int(weight)+1.8*int(height)-4.7*int(age))\n",
    "    bmr = round(bmr,1)\n",
    "    return bmr\n",
    "\n",
    "def get_tdee(sex,height,weight,age,times):\n",
    "    bmr = get_bmr(sex,height,weight,age)\n",
    "    tdee = bmr*times\n",
    "    tdee = round(tdee,2)\n",
    "    return tdee\n",
    "\n",
    "print('歡迎使用健康綜合計算機')\n",
    "print('(1)計算bmi')\n",
    "print('(2)計算bmr')\n",
    "print('(3)計算tdee')\n",
    "item = (input('請選擇要計算的項目(輸入1 or 2 or 3)'))\n",
    "\n",
    "if item == '1':\n",
    "    height = float(input('請輸入年的身高(公分)'))\n",
    "    weight = float(input('請輸入您的體重(公斤)'))\n",
    "    bmi = get_bmi(height,weight)\n",
    "    print(f'您的BMI是:{bmi}')\n",
    "\n",
    "elif item == '2':\n",
    "    sex = input('請入您的性別(男or女)')\n",
    "    height = input('請輸入年的身高(公分)')\n",
    "    weight = input('請輸入您的體重(公斤)')\n",
    "    age = input('請入您的年齡')\n",
    "    bmr = get_bmr(sex,height,weight,age)\n",
    "    print(f'您的BMR:{bmr}')\n",
    "\n",
    "elif item == '3':\n",
    "    sex = input('請入您的性別(男or女)')\n",
    "    height = input('請輸入年的身高(公分)')\n",
    "    weight = input('請輸入您的體重(公斤)')\n",
    "    age = input('請入您的年齡')\n",
    "    print('(1)久坐，幾乎沒運動\\n(2)每周低強度運動1-3天\\n(3)每周中強度運動3-5天\\n(4)每周高強度運動6-7天\\n(5)勞力密集工作強度或是每天高強度訓練')\n",
    "    exer = input('請選擇您的運動量(輸入1-5)')\n",
    "    if exer == '1':\n",
    "        times = 1.2\n",
    "    elif exer == '2':\n",
    "        times = 1.375\n",
    "    elif exer == '3':\n",
    "        times = 1.55\n",
    "    elif exer == '4':\n",
    "        times = 1.725\n",
    "    elif exer == '5':\n",
    "        times = 1.9\n",
    "    tdee = get_tdee(sex,height,weight,age,times)\n",
    "    print(f'您的tdee:{tdee}')"
   ]
  }
 ],
 "metadata": {
  "kernelspec": {
   "display_name": "base",
   "language": "python",
   "name": "python3"
  },
  "language_info": {
   "codemirror_mode": {
    "name": "ipython",
    "version": 3
   },
   "file_extension": ".py",
   "mimetype": "text/x-python",
   "name": "python",
   "nbconvert_exporter": "python",
   "pygments_lexer": "ipython3",
   "version": "3.11.3"
  },
  "orig_nbformat": 4
 },
 "nbformat": 4,
 "nbformat_minor": 2
}
