{
 "cells": [
  {
   "cell_type": "code",
   "execution_count": 47,
   "metadata": {},
   "outputs": [
    {
     "name": "stdout",
     "output_type": "stream",
     "text": [
      "Q238927307\n"
     ]
    }
   ],
   "source": [
    "input_id = 'Q238927307'\n",
    "print(input_id)"
   ]
  },
  {
   "cell_type": "code",
   "execution_count": 48,
   "metadata": {},
   "outputs": [
    {
     "name": "stdout",
     "output_type": "stream",
     "text": [
      "Q\n"
     ]
    }
   ],
   "source": [
    "# Get the character at position 0 (first character)\n",
    "print(input_id[0])"
   ]
  },
  {
   "cell_type": "code",
   "execution_count": 49,
   "metadata": {},
   "outputs": [
    {
     "name": "stdout",
     "output_type": "stream",
     "text": [
      "2\n",
      "3\n",
      "8\n"
     ]
    }
   ],
   "source": [
    "print(input_id[1])\n",
    "print(input_id[2])\n",
    "print(input_id[3])"
   ]
  },
  {
   "cell_type": "code",
   "execution_count": 50,
   "metadata": {},
   "outputs": [
    {
     "name": "stdout",
     "output_type": "stream",
     "text": [
      "10\n"
     ]
    }
   ],
   "source": [
    "# Get the length of input_id\n",
    "print(len(input_id))"
   ]
  },
  {
   "cell_type": "code",
   "execution_count": 51,
   "metadata": {},
   "outputs": [
    {
     "name": "stdout",
     "output_type": "stream",
     "text": [
      "2\n"
     ]
    }
   ],
   "source": [
    "# Be careful, input_id[1] is a string\n",
    "print(input_id[1])"
   ]
  },
  {
   "cell_type": "code",
   "execution_count": 52,
   "metadata": {},
   "outputs": [
    {
     "name": "stdout",
     "output_type": "stream",
     "text": [
      "7\n"
     ]
    }
   ],
   "source": [
    "# 如果要把sting變數字 使用下方方法\n",
    "v = int(input_id[1])\n",
    "print(v+5)"
   ]
  },
  {
   "cell_type": "code",
   "execution_count": 53,
   "metadata": {},
   "outputs": [
    {
     "name": "stdout",
     "output_type": "stream",
     "text": [
      "0 Q\n",
      "1 2\n",
      "2 3\n",
      "3 8\n",
      "4 9\n",
      "5 2\n",
      "6 7\n",
      "7 3\n",
      "8 0\n",
      "9 7\n"
     ]
    }
   ],
   "source": [
    "for i in range(10):\n",
    "    print(i,input_id[i])"
   ]
  },
  {
   "cell_type": "code",
   "execution_count": 54,
   "metadata": {},
   "outputs": [
    {
     "name": "stdout",
     "output_type": "stream",
     "text": [
      "Q\n",
      "2\n",
      "3\n",
      "8\n",
      "9\n",
      "2\n",
      "7\n",
      "3\n",
      "0\n",
      "7\n"
     ]
    }
   ],
   "source": [
    "for i in range(len(input_id)):\n",
    "    print(input_id[i])"
   ]
  },
  {
   "cell_type": "markdown",
   "metadata": {},
   "source": [
    "# Weights\n",
    "we use a python 'list' to store them."
   ]
  },
  {
   "cell_type": "code",
   "execution_count": 55,
   "metadata": {},
   "outputs": [
    {
     "name": "stdout",
     "output_type": "stream",
     "text": [
      "<class 'list'>\n",
      "[1, 9, 8, 7, 6, 5, 4, 3, 2, 1, 1]\n"
     ]
    }
   ],
   "source": [
    "weights = [1,9,8,7,6,5,4,3,2,1,1]\n",
    "print(type(weights))\n",
    "print(weights)"
   ]
  },
  {
   "cell_type": "code",
   "execution_count": 56,
   "metadata": {},
   "outputs": [
    {
     "name": "stdout",
     "output_type": "stream",
     "text": [
      "11\n"
     ]
    }
   ],
   "source": [
    "print(len(weights))"
   ]
  },
  {
   "cell_type": "code",
   "execution_count": 57,
   "metadata": {},
   "outputs": [
    {
     "name": "stdout",
     "output_type": "stream",
     "text": [
      "1\n"
     ]
    }
   ],
   "source": [
    "print(weights[0])"
   ]
  },
  {
   "cell_type": "code",
   "execution_count": 58,
   "metadata": {},
   "outputs": [
    {
     "name": "stdout",
     "output_type": "stream",
     "text": [
      "1\n",
      "9\n",
      "8\n",
      "7\n",
      "6\n",
      "5\n",
      "4\n",
      "3\n",
      "2\n",
      "1\n",
      "1\n"
     ]
    }
   ],
   "source": [
    "for i in range(len(weights)):\n",
    "    print(weights[i])"
   ]
  },
  {
   "cell_type": "markdown",
   "metadata": {},
   "source": [
    "# region lookup table\n",
    "we use a pythoon ' Dic ' to store the region lookup table"
   ]
  },
  {
   "cell_type": "code",
   "execution_count": 59,
   "metadata": {},
   "outputs": [
    {
     "name": "stdout",
     "output_type": "stream",
     "text": [
      "<class 'dict'>\n",
      "{'A': 10, 'B': 11, 'C': 12, 'D': 13, 'E': 14, 'F': 15, 'G': 16, 'H': 17, 'I': 34, 'J': 18, 'K': 19, 'M': 21, 'N': 22, 'O': 35, 'P': 23, 'Q': 24, 'T': 27, 'U': 28, 'V': 29, 'W': 32, 'X': 30, 'Z': 33}\n"
     ]
    }
   ],
   "source": [
    "region_table = {\n",
    "    #'key':value\n",
    "    'A':10, 'B':11, 'C':12, 'D':13, 'E':14, 'F':15, 'G':16, 'H':17, 'I':34, 'J':18, 'K':19, 'M':21,\n",
    "      'N':22, 'O':35, 'P':23, 'Q':24, 'T':27, 'U':28, 'V':29, 'W':32, 'X':30, 'Z':33 \n",
    "}\n",
    "print(type(region_table))\n",
    "print(region_table)"
   ]
  },
  {
   "cell_type": "code",
   "execution_count": 60,
   "metadata": {},
   "outputs": [
    {
     "name": "stdout",
     "output_type": "stream",
     "text": [
      "10\n"
     ]
    }
   ],
   "source": [
    "print(region_table['A'])"
   ]
  },
  {
   "cell_type": "code",
   "execution_count": 61,
   "metadata": {},
   "outputs": [
    {
     "name": "stdout",
     "output_type": "stream",
     "text": [
      "A 10\n",
      "B 11\n",
      "C 12\n",
      "D 13\n",
      "E 14\n",
      "F 15\n",
      "G 16\n",
      "H 17\n",
      "I 34\n",
      "J 18\n",
      "K 19\n",
      "M 21\n",
      "N 22\n",
      "O 35\n",
      "P 23\n",
      "Q 24\n",
      "T 27\n",
      "U 28\n",
      "V 29\n",
      "W 32\n",
      "X 30\n",
      "Z 33\n"
     ]
    }
   ],
   "source": [
    "for k,v in region_table.items():\n",
    "    print(k,v)"
   ]
  },
  {
   "cell_type": "markdown",
   "metadata": {},
   "source": [
    "## ID VERIFICATION"
   ]
  },
  {
   "cell_type": "code",
   "execution_count": 62,
   "metadata": {},
   "outputs": [
    {
     "name": "stdout",
     "output_type": "stream",
     "text": [
      "[0, 0, 0, 0, 0, 0, 0, 0, 0, 0, 0]\n",
      "11\n"
     ]
    }
   ],
   "source": [
    "id_buf = [0]*11\n",
    "print(id_buf)\n",
    "print(len(id_buf))"
   ]
  },
  {
   "cell_type": "code",
   "execution_count": 63,
   "metadata": {},
   "outputs": [
    {
     "name": "stdout",
     "output_type": "stream",
     "text": [
      "24\n",
      "2\n",
      "4\n"
     ]
    }
   ],
   "source": [
    "# region code\n",
    "print(region_table[input_id[0]])\n",
    "r1 = region_table[input_id[0]]//10\n",
    "r2 = region_table[input_id[0]]%10\n",
    "print(r1)\n",
    "print(r2)\n",
    "id_buf[0] = r1\n",
    "id_buf[1] = r2"
   ]
  },
  {
   "cell_type": "code",
   "execution_count": 64,
   "metadata": {},
   "outputs": [
    {
     "name": "stdout",
     "output_type": "stream",
     "text": [
      "[2, 4, 2, 0, 0, 0, 0, 0, 0, 0, 0]\n"
     ]
    }
   ],
   "source": [
    "#gender\n",
    "id_buf[2] = int(input_id[1])\n",
    "print(id_buf)"
   ]
  },
  {
   "cell_type": "code",
   "execution_count": 65,
   "metadata": {},
   "outputs": [
    {
     "name": "stdout",
     "output_type": "stream",
     "text": [
      "[2, 4, 2, 3, 8, 9, 2, 7, 3, 0, 7]\n"
     ]
    }
   ],
   "source": [
    "# rest of id\n",
    "for i in range(2,len(input_id)):\n",
    "    id_buf[i+1] = int(input_id[i])\n",
    "\n",
    "print(id_buf)\n"
   ]
  },
  {
   "cell_type": "code",
   "execution_count": 66,
   "metadata": {},
   "outputs": [
    {
     "name": "stdout",
     "output_type": "stream",
     "text": [
      "210\n"
     ]
    }
   ],
   "source": [
    "id_sum = 0\n",
    "for i in range (len(id_buf)):\n",
    "    id_sum = id_sum + id_buf[i]*weights[i]\n",
    "print(id_sum)"
   ]
  },
  {
   "cell_type": "code",
   "execution_count": 68,
   "metadata": {},
   "outputs": [
    {
     "name": "stdout",
     "output_type": "stream",
     "text": [
      "Valid ID Q238927307\n"
     ]
    }
   ],
   "source": [
    "if id_sum % 10 == 0:\n",
    "    print('Valid ID', input_id)\n",
    "else:\n",
    "    print('Invalid ID', input_id)"
   ]
  }
 ],
 "metadata": {
  "kernelspec": {
   "display_name": "base",
   "language": "python",
   "name": "python3"
  },
  "language_info": {
   "codemirror_mode": {
    "name": "ipython",
    "version": 3
   },
   "file_extension": ".py",
   "mimetype": "text/x-python",
   "name": "python",
   "nbconvert_exporter": "python",
   "pygments_lexer": "ipython3",
   "version": "3.11.3"
  },
  "orig_nbformat": 4
 },
 "nbformat": 4,
 "nbformat_minor": 2
}
