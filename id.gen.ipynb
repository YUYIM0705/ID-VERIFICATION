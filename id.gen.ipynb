{
 "cells": [
  {
   "cell_type": "code",
   "execution_count": 262,
   "metadata": {},
   "outputs": [],
   "source": [
    "# rname == taipei\n",
    "# rcode == A\n",
    "# rvalue == 10\n",
    "weights = [1,9,8,7,6,5,4,3,2,1,1]\n",
    "region_table = {\n",
    "    #'key':value\n",
    "    'A':10, 'B':11, 'C':12, 'D':13, 'E':14, 'F':15, 'G':16, 'H':17, 'I':34, 'J':18, 'K':19, 'M':21,\n",
    "      'N':22, 'O':35, 'P':23, 'Q':24, 'T':27, 'U':28, 'V':29, 'W':32, 'X':30, 'Z':33 \n",
    "}\n",
    "\n",
    "#男生或女生\n",
    "gender = 1\n",
    "region_name = '嘉義市'\n",
    "\n",
    "region_name_table = {\n",
    "    '台北市':'A', '嘉義市':'I', '新竹縣':'j', '苗栗縣':'K', '南投縣':'M', '彰化縣':'N', '新竹市':'O', '雲林縣':'P', '嘉義縣':'Q',\n",
    "    '屏東縣':'T', '花蓮縣':'U', '台東縣':'V', '金門縣':'W', '澎湖縣':'X', '連江縣':'Z',\n",
    "}\n",
    "\n",
    "#print(region_name_table[region_name])\n",
    "\n"
   ]
  },
  {
   "cell_type": "code",
   "execution_count": 263,
   "metadata": {},
   "outputs": [],
   "source": [
    "def get_first_region_value(rcode):\n",
    "    v = rcode // 10\n",
    "    return v\n",
    "\n",
    "def get_second_region_value(rcode):\n",
    "    v = rcode % 10\n",
    "    return v\n",
    "\n",
    "def get_region_code_by_name(region_name):\n",
    "    \"\"\"\n",
    "    Given a region name, return its region code.\n",
    "    Ex. region_name = '台北市', return 'A'\n",
    "    param:\n",
    "        region_name: str, the name of a region. Ex.'台北市'\n",
    "    return:\n",
    "        region_code: str, the region code of the given region name. Ex. 'A'\n",
    "    \"\"\"\n",
    "    return region_name_table[region_name]\n",
    "\n",
    "def get_region_value_by_name(region_name):\n",
    "    rcode = get_region_code_by_name(region_name)\n",
    "    \"\"\"\n",
    "    Given a region name, return its region value.\n",
    "    Ex. region_name = '台北市', return '10'\n",
    "    param:\n",
    "        region_name: str, the name of a region. Ex.'台北市'\n",
    "    return:\n",
    "        region_value: int, the region value of the given region name. Ex. 10\n",
    "    \"\"\"\n",
    "    return region_table[rcode]\n",
    "\n",
    "def get_id_weighted_sum(id_buf):\n",
    "    id_sum = 0\n",
    "    for i in range(len(id_buf)):\n",
    "        id_sum += id_buf[i]*weights[i]\n",
    "    return id_sum\n",
    "\n",
    "def get_id(id_buf,region_name):\n",
    "    id=''\n",
    "    id = id + get_region_code_by_name(region_name)\n",
    "    for i in range(2,11):\n",
    "        id = id + str(id_buf[i])\n",
    "    return id\n"
   ]
  },
  {
   "cell_type": "code",
   "execution_count": 264,
   "metadata": {},
   "outputs": [
    {
     "name": "stdout",
     "output_type": "stream",
     "text": [
      "34\n",
      "I\n",
      "3 4\n"
     ]
    }
   ],
   "source": [
    "rcode = get_region_code_by_name('嘉義市')\n",
    "rvalue = get_region_value_by_name('嘉義市')\n",
    "r1 = get_first_region_value(34)\n",
    "r2 = get_second_region_value(34)\n",
    "\n",
    "print(rvalue)\n",
    "print(rcode)\n",
    "print(r1,r2)"
   ]
  },
  {
   "cell_type": "code",
   "execution_count": 265,
   "metadata": {},
   "outputs": [],
   "source": [
    "id_buf = [0]*11\n",
    "id_buf[2] = gender\n",
    "\n",
    "rcode = region_name_table[region_name] \n",
    "#id_buf[0] = region_table[rcode]//10\n",
    "id_buf[0] = get_first_region_value(region_table[rcode])\n",
    "#id_buf[1] = region_table[rcode]%10\n",
    "id_buf[1] = get_second_region_value(region_table[rcode])\n",
    "\n",
    "#print(id_buf)\n",
    "\n"
   ]
  },
  {
   "cell_type": "code",
   "execution_count": 266,
   "metadata": {},
   "outputs": [],
   "source": [
    "import random\n",
    "for i in range(3,10):\n",
    "    id_buf[i] = random.randint(0,9)\n",
    "#print(id_buf)\n",
    "\n",
    "#print(random.randint(0,9))\n"
   ]
  },
  {
   "cell_type": "code",
   "execution_count": 267,
   "metadata": {},
   "outputs": [],
   "source": [
    "if id_sum % 10 == 0:\n",
    "    id_buf[10] = 0\n",
    "else:\n",
    "    id_buf[10]=10- (id_sum % 10)\n",
    "\n",
    "id_sum= 0 \n",
    "#id_sum =get_id_weighted_sum(id_buf)\n",
    "#for i in range(len(id_buf)):\n",
    "id_sum += id_buf[i]*weights[i]\n",
    "#print(id_sum)\n",
    "\n",
    "#print(id_buf)"
   ]
  },
  {
   "cell_type": "code",
   "execution_count": 268,
   "metadata": {},
   "outputs": [
    {
     "name": "stdout",
     "output_type": "stream",
     "text": [
      "I108979944\n"
     ]
    }
   ],
   "source": [
    "\"\"\"\n",
    "print(rcode, end='')\n",
    "print(get_region_code_by_name(region_name), end='')\n",
    "print(gender, end='')\n",
    "for i in range (3,11):\n",
    "    print(id_buf[i], end='')\n",
    "\"\"\"\n",
    "\n",
    "fake_id = get_id(id_buf, region_name)\n",
    "print(fake_id)"
   ]
  },
  {
   "cell_type": "code",
   "execution_count": 269,
   "metadata": {},
   "outputs": [],
   "source": [
    "def generate_fake_id(region_name, gender):\n",
    "    id_buf = [0]*11\n",
    "    rvalue = get_the_region_value_by_name(region_name)\n",
    "    id_buf[0] = get_first_region_value(rvalue)\n",
    "    id_buf[1] = get_second_region_value(rvalue)\n",
    "    #gender value\n",
    "    id_buf[2] = gender\n",
    "    for i in range(3, 10):\n",
    "        id_buf[i] = random.randint(0,9)\n",
    "    id_sum = get_id_weighted_sum(id_buf)\n",
    "    #generate the last digit\n",
    "    if id_sum % 10 == 0:\n",
    "        id_buf[10] = 0\n",
    "    else:\n",
    "        id_buf[10] = 10 - (id_sum % 10)\n",
    "    fake_id = get_id(id_buf, region_name)\n",
    "    return fake_id\n",
    "    "
   ]
  },
  {
   "cell_type": "code",
   "execution_count": 270,
   "metadata": {},
   "outputs": [
    {
     "ename": "NameError",
     "evalue": "name 'get_the_region_value_by_name' is not defined",
     "output_type": "error",
     "traceback": [
      "\u001b[1;31m---------------------------------------------------------------------------\u001b[0m",
      "\u001b[1;31mNameError\u001b[0m                                 Traceback (most recent call last)",
      "Cell \u001b[1;32mIn[270], line 1\u001b[0m\n\u001b[1;32m----> 1\u001b[0m generate_fake_id(\u001b[39m'\u001b[39m\u001b[39m嘉義市\u001b[39m\u001b[39m'\u001b[39m,\u001b[39m1\u001b[39m)\n",
      "Cell \u001b[1;32mIn[269], line 3\u001b[0m, in \u001b[0;36mgenerate_fake_id\u001b[1;34m(region_name, gender)\u001b[0m\n\u001b[0;32m      1\u001b[0m \u001b[39mdef\u001b[39;00m \u001b[39mgenerate_fake_id\u001b[39m(region_name, gender):\n\u001b[0;32m      2\u001b[0m     id_buf \u001b[39m=\u001b[39m [\u001b[39m0\u001b[39m]\u001b[39m*\u001b[39m\u001b[39m11\u001b[39m\n\u001b[1;32m----> 3\u001b[0m     rvalue \u001b[39m=\u001b[39m get_the_region_value_by_name(region_name)\n\u001b[0;32m      4\u001b[0m     id_buf[\u001b[39m0\u001b[39m] \u001b[39m=\u001b[39m get_first_region_value(rvalue)\n\u001b[0;32m      5\u001b[0m     id_buf[\u001b[39m1\u001b[39m] \u001b[39m=\u001b[39m get_second_region_value(rvalue)\n",
      "\u001b[1;31mNameError\u001b[0m: name 'get_the_region_value_by_name' is not defined"
     ]
    }
   ],
   "source": [
    "generate_fake_id('嘉義市',1)"
   ]
  }
 ],
 "metadata": {
  "kernelspec": {
   "display_name": "base",
   "language": "python",
   "name": "python3"
  },
  "language_info": {
   "codemirror_mode": {
    "name": "ipython",
    "version": 3
   },
   "file_extension": ".py",
   "mimetype": "text/x-python",
   "name": "python",
   "nbconvert_exporter": "python",
   "pygments_lexer": "ipython3",
   "version": "3.11.3"
  },
  "orig_nbformat": 4
 },
 "nbformat": 4,
 "nbformat_minor": 2
}
