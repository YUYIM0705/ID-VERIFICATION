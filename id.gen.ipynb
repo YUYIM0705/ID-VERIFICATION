{
 "cells": [
  {
   "cell_type": "code",
   "execution_count": 9,
   "metadata": {},
   "outputs": [
    {
     "name": "stdout",
     "output_type": "stream",
     "text": [
      "A\n"
     ]
    }
   ],
   "source": [
    "weights = [1,9,8,7,6,5,4,3,2,1,1]\n",
    "region_table = {\n",
    "    #'key':value\n",
    "    'A':10, 'B':11, 'C':12, 'D':13, 'E':14, 'F':15, 'G':16, 'H':17, 'I':34, 'J':18, 'K':19, 'M':21,\n",
    "      'N':22, 'O':35, 'P':23, 'Q':24, 'T':27, 'U':28, 'V':29, 'W':32, 'X':30, 'Z':33 \n",
    "}\n",
    "\n",
    "#男生或女生\n",
    "gender = 1\n",
    "region_name = '台北市'\n",
    "\n",
    "region_name_table = {\n",
    "    '台北市':'A', '嘉義市':'I', '新竹縣':'j', '苗栗縣':'K', '南投縣':'M', '彰化縣':'N', '新竹市':'O', '雲林縣':'P', '嘉義縣':'Q',\n",
    "    '屏東縣':'T', '花蓮縣':'U', '台東縣':'V', '金門縣':'W', '澎湖縣':'X', '連江縣':'Z',\n",
    "}\n",
    "\n",
    "print(region_name_table[region_name])\n",
    "\n"
   ]
  },
  {
   "cell_type": "code",
   "execution_count": 14,
   "metadata": {},
   "outputs": [
    {
     "name": "stdout",
     "output_type": "stream",
     "text": [
      "[1, 0, 1, 0, 0, 0, 0, 0, 0, 0, 0]\n"
     ]
    }
   ],
   "source": [
    "id_buf = [0]*11\n",
    "id_buf[2] = gender\n",
    "rcode = region_name_table[region_name] \n",
    "id_buf[0] = region_table[rcode]//10\n",
    "id_buf[1] = region_table[rcode]%10\n",
    "\n",
    "print(id_buf)\n",
    "\n"
   ]
  },
  {
   "cell_type": "code",
   "execution_count": 21,
   "metadata": {},
   "outputs": [
    {
     "name": "stdout",
     "output_type": "stream",
     "text": [
      "[1, 0, 1, 9, 3, 2, 3, 2, 2, 3, 0]\n",
      "2\n"
     ]
    }
   ],
   "source": [
    "import random\n",
    "for i in range(3,10):\n",
    "    id_buf[i] = random.randint(0,9)\n",
    "print(id_buf)\n",
    "\n",
    "print(random.randint(0,9))\n"
   ]
  },
  {
   "cell_type": "code",
   "execution_count": 56,
   "metadata": {},
   "outputs": [
    {
     "name": "stdout",
     "output_type": "stream",
     "text": [
      "125\n",
      "[1, 0, 1, 9, 3, 2, 3, 2, 2, 3, 0]\n"
     ]
    }
   ],
   "source": [
    "if id_sum % 10 == 0:\n",
    "    id_buf[10] = 0\n",
    "else:\n",
    "    id_buf[10]=10- (id_sum % 10)\n",
    "\n",
    "id_sum= 0 \n",
    "for i in range(len(id_buf)):\n",
    "    id_sum += id_buf[i]*weights[i]\n",
    "print(id_sum)\n",
    "\n",
    "print(id_buf)"
   ]
  },
  {
   "cell_type": "code",
   "execution_count": 58,
   "metadata": {},
   "outputs": [
    {
     "name": "stdout",
     "output_type": "stream",
     "text": [
      "A193232230"
     ]
    }
   ],
   "source": [
    "print(rcode, end='')\n",
    "print(gender, end='')\n",
    "for i in range (3,11):\n",
    "    print(id_buf[i], end='')"
   ]
  }
 ],
 "metadata": {
  "kernelspec": {
   "display_name": "base",
   "language": "python",
   "name": "python3"
  },
  "language_info": {
   "codemirror_mode": {
    "name": "ipython",
    "version": 3
   },
   "file_extension": ".py",
   "mimetype": "text/x-python",
   "name": "python",
   "nbconvert_exporter": "python",
   "pygments_lexer": "ipython3",
   "version": "3.11.3"
  },
  "orig_nbformat": 4
 },
 "nbformat": 4,
 "nbformat_minor": 2
}
