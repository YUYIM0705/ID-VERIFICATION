{
 "cells": [
  {
   "cell_type": "code",
   "execution_count": 6,
   "metadata": {},
   "outputs": [
    {
     "name": "stdout",
     "output_type": "stream",
     "text": [
      "10hello\n"
     ]
    }
   ],
   "source": [
    "num1 = str(10)\n",
    "#num2 = float(input('plz type number2'))\n",
    "\n",
    "print(num1 + 'hello')"
   ]
  },
  {
   "cell_type": "code",
   "execution_count": 2,
   "metadata": {},
   "outputs": [
    {
     "name": "stdout",
     "output_type": "stream",
     "text": [
      "14\n"
     ]
    }
   ],
   "source": [
    "#把輸入的兩位數數字，十位和個位的數字相加\n",
    "\n",
    "number = input('請輸入一個兩位數數字')\n",
    "print(int(number[0]) + int(number[1]))\n"
   ]
  },
  {
   "cell_type": "code",
   "execution_count": 32,
   "metadata": {},
   "outputs": [
    {
     "name": "stdout",
     "output_type": "stream",
     "text": [
      "你好小白\n",
      "今天天氣真好\n",
      "我今年18歲,身高170公公分,是否為男性:True\n",
      "1.33333\n",
      "102\n",
      "100\n",
      "50.0\n",
      "100.0\n",
      "180.6\n",
      "76.5\n",
      "您的bmi為:23.5\n"
     ]
    }
   ],
   "source": [
    "print('你好小白\\n今天天氣真好')\n",
    "\n",
    "# f-string\n",
    "age = 18\n",
    "height = 170\n",
    "is_male = True\n",
    "\n",
    "print(f'我今年{age}歲,身高{height}公公分,是否為男性:{is_male}')\n",
    "\n",
    "#round(某數,四捨五入到第幾位)\n",
    "print(round(4/3,5))\n",
    "\n",
    "num = 100\n",
    "num += 2\n",
    "print(num)\n",
    "num -=2\n",
    "print(num)\n",
    "num /=2\n",
    "print(num)\n",
    "num *=2\n",
    "print(num)\n",
    "\n",
    "height = float(input('請輸入您的身高(公分)\\n'))\n",
    "print(height)\n",
    "\n",
    "weight = float(input('請輸入您的體重\\n'))\n",
    "print(weight)\n",
    "\n",
    "bmi = round(weight/(height/100)**2,1)\n",
    "\n",
    "print(f'您的bmi為:{bmi}')"
   ]
  },
  {
   "cell_type": "code",
   "execution_count": 48,
   "metadata": {},
   "outputs": [
    {
     "name": "stdout",
     "output_type": "stream",
     "text": [
      "178.5\n",
      "120.0\n",
      "您的BMI是: 37.7(重度肥胖)\n"
     ]
    }
   ],
   "source": [
    "height = float(input('請輸入您的身高(公分)\\n'))\n",
    "print(height)\n",
    "weight = float(input('請輸入您的體重(公斤)\\n'))\n",
    "print(weight)\n",
    "bmi = round(weight/(height/100)**2,1)\n",
    "\n",
    "\n",
    "if bmi < 18.5:\n",
    "    print(f'您的BMI是: {bmi}(體重過輕)')\n",
    "elif bmi < 24:\n",
    "    print(f'您的BMI是: {bmi}(正常體位)')\n",
    "elif bmi < 27:\n",
    "    print(f'您的BMI是: {bmi}(體重過重)')\n",
    "elif bmi < 30:\n",
    "    print(f'您的BMI是: {bmi}(輕度肥胖)')\n",
    "elif bmi <35:\n",
    "    print(f'您的BMI是: {bmi}(中度肥胖)')\n",
    "else:\n",
    "    print(f'您的BMI是: {bmi}(重度肥胖)') "
   ]
  },
  {
   "cell_type": "code",
   "execution_count": 98,
   "metadata": {},
   "outputs": [
    {
     "name": "stdout",
     "output_type": "stream",
     "text": [
      "歡迎使用拉麵點餐機~\n",
      "(1)鹽味拉麵 $220\n",
      "(2)醬油拉麵 $240\n",
      "(3)豚骨拉麵 $280\n",
      "總金額$280,感謝您的光臨\n"
     ]
    }
   ],
   "source": [
    "print('歡迎使用拉麵點餐機~')\n",
    "print('(1)鹽味拉麵 $220')\n",
    "print('(2)醬油拉麵 $240')\n",
    "print('(3)豚骨拉麵 $280')\n",
    "\n",
    "\n",
    "flavor = input('請選擇拉麵口味(輸入: 1 or 2 or 3)')\n",
    "\n",
    "if flavor == '1':\n",
    "    price_flavor = 220\n",
    "elif flavor == '2':\n",
    "    price_flavor = 240\n",
    "else:\n",
    "    price_flavor = 280\n",
    "\n",
    "\n",
    "size = input('是否加大, 豚骨口味+$50 其他口味+$30(輸入: Y or N)').upper()\n",
    "if size == 'Y' and flavor == '3':\n",
    "    price_size = 50\n",
    "elif size == 'Y' and flavor == '1':\n",
    "    price_size = 30\n",
    "elif size == 'Y' and flavor == '2':\n",
    "    price_size = 30\n",
    "else:\n",
    "    price_size = 0\n",
    "\n",
    "add_egg= input('是否加糖心蛋+$30(輸入: Y or N)').upper()\n",
    "if add_egg == 'Y':\n",
    "    price_egg = 30\n",
    "else:\n",
    "    price_egg = 0\n",
    "\n",
    "add_meat = input('是否加叉燒+$60(輸入: Y or N)').upper()\n",
    "if add_meat == 'Y':\n",
    "    price_meat = 60\n",
    "else:\n",
    "    price_meat = 0\n",
    "\n",
    "total_price = int(price_flavor + price_size + price_egg + price_meat)\n",
    "discount_total_price = total_price-20\n",
    "\n",
    "if size == 'Y' and add_egg =='Y' and add_meat =='Y':\n",
    "    print(f'加好加滿折價$20,總金額{discount_total_price},感謝您的光臨!')\n",
    "else:\n",
    "    print(f'總金額${total_price},感謝您的光臨')\n",
    "\n"
   ]
  },
  {
   "cell_type": "code",
   "execution_count": 125,
   "metadata": {},
   "outputs": [
    {
     "name": "stdout",
     "output_type": "stream",
     "text": [
      "歡迎使用拉麵點餐機~\n",
      "(1)鹽味拉麵 $220\n",
      "(2)醬油拉麵 $240\n",
      "(3)豚骨拉麵 $280\n",
      "\n",
      "\n",
      "加好加滿折價$20,總金額320,感謝您的光臨!\n"
     ]
    }
   ],
   "source": [
    "print('歡迎使用拉麵點餐機~')\n",
    "print('(1)鹽味拉麵 $220')\n",
    "print('(2)醬油拉麵 $240')\n",
    "print('(3)豚骨拉麵 $280')\n",
    "\n",
    "\n",
    "soup = input('請選擇拉麵口味(輸入: 1 or 2 or 3)')\n",
    "size = input('是否加大, 豚骨口味+$50 其他口味+$30(輸入: Y or N)').upper()\n",
    "add_egg= input('是否加糖心蛋+$30(輸入: Y or N)').upper()\n",
    "add_meat = input('是否加叉燒+$60(輸入: Y or N)').upper()\n",
    "\n",
    "bill = 0\n",
    "if soup == '1':\n",
    "    bill += 220\n",
    "elif soup == '2':\n",
    "    bill += 240\n",
    "elif soup == '3':\n",
    "    bill += 280\n",
    "\n",
    "\n",
    "if size == 'Y':\n",
    "    if soup == '3':\n",
    "        bill += 50\n",
    "    else:\n",
    "        bill += 30\n",
    "\n",
    "\n",
    "if add_egg == 'Y':\n",
    "    bill += 30\n",
    "\n",
    "\n",
    "if add_meat == 'Y':\n",
    "    bill += 60\n",
    "\n",
    "\n",
    "\n",
    "if size == 'Y' and add_egg =='Y' and add_meat =='Y':\n",
    "    bill -= 20\n",
    "    print(f'\\n\\n加好加滿折價$20,總金額{bill},感謝您的光臨!')\n",
    "else:\n",
    "    print(f'\\n\\n總金額${bill},感謝您的光臨')"
   ]
  },
  {
   "cell_type": "code",
   "execution_count": 132,
   "metadata": {},
   "outputs": [
    {
     "name": "stdout",
     "output_type": "stream",
     "text": [
      "-3\n"
     ]
    }
   ],
   "source": [
    "def find_max(num1, num2, num3):\n",
    "    if num1 >= num2 and num1 >= num3:\n",
    "        print(num1)\n",
    "    elif num2 >= num1 and num2 >= num3:\n",
    "        print(num2)\n",
    "    elif num3 >= num1 and num3 >= num2:\n",
    "        print(num3)\n",
    "\n",
    "find_max(-10,-10,-3)"
   ]
  },
  {
   "cell_type": "code",
   "execution_count": 190,
   "metadata": {},
   "outputs": [
    {
     "name": "stdout",
     "output_type": "stream",
     "text": [
      "2\n"
     ]
    }
   ],
   "source": [
    "def find_max(num1,num2,num3):\n",
    "    if num1 >= num2 and num1 >= num3:\n",
    "        return(num1)\n",
    "    elif num2 >= num1 and num2 >= num3:\n",
    "        return(num2)\n",
    "    else: \n",
    "        return(num3)\n",
    "    \n",
    "def find_min(num1,num2,num3):\n",
    "    if num1 <= num2 and num1 <= num3:\n",
    "        return(num1)\n",
    "    elif num2 <= num1 and num2 <= num3:\n",
    "        return(num2)\n",
    "    else:\n",
    "        return(num3)  \n",
    "    \n",
    "def max_min(num1,num2,num3):\n",
    "    if type(num1) != int or type(num2) != int or type(num3) != int:\n",
    "        return '請輸入整數'\n",
    "    else:\n",
    "        print(find_max(num1,num2,num3)-find_min(num1,num2,num3))\n",
    "\n",
    "max_min(1,2,3)"
   ]
  }
 ],
 "metadata": {
  "kernelspec": {
   "display_name": "base",
   "language": "python",
   "name": "python3"
  },
  "language_info": {
   "codemirror_mode": {
    "name": "ipython",
    "version": 3
   },
   "file_extension": ".py",
   "mimetype": "text/x-python",
   "name": "python",
   "nbconvert_exporter": "python",
   "pygments_lexer": "ipython3",
   "version": "3.11.3"
  },
  "orig_nbformat": 4
 },
 "nbformat": 4,
 "nbformat_minor": 2
}
