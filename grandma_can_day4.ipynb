{
 "cells": [
  {
   "cell_type": "code",
   "execution_count": 33,
   "metadata": {},
   "outputs": [
    {
     "name": "stdout",
     "output_type": "stream",
     "text": [
      "歡迎使用健康綜合計算機\n",
      "(1)計算bmi\n",
      "(2)計算bmr\n",
      "(3)計算tdee\n",
      "(1)久坐，幾乎沒運動\n",
      "(2)每周低強度運動1-3天\n",
      "(3)每周中強度運動3-5天\n",
      "(4)每周高強度運動6-7天\n",
      "(5)勞力密集工作強度或是每天高強度訓練\n",
      "您的TDEE:1618.8\n"
     ]
    }
   ],
   "source": [
    "print('歡迎使用健康綜合計算機')\n",
    "print('(1)計算bmi')\n",
    "print('(2)計算bmr')\n",
    "print('(3)計算tdee')\n",
    "item = input('請選擇要計算的項目(輸入1 or 2 or 3)')\n",
    "\n",
    "\n",
    "\"\"\"\n",
    "height = input('請輸入年的身高(公分)')\n",
    "weight = input('請輸入您的體重(公斤)')\n",
    "sex = input('請入您的性別(男or女)')\n",
    "age = input('請入您的年齡')\n",
    "times = input('(1)久坐，幾乎沒運動\\n(2)每周低強度運動1-3天\\n(3)每周中強度運動3-5天\\n(4)每周高強度運動6-7天\\n(5)勞力密集工作強度或是每天高強度訓練\\n請選擇您的運動量(輸入1-5)')\n",
    "\"\"\"\n",
    "\n",
    "def get_bmi(height,weight):\n",
    "    height = input('請輸入年的身高(公分)')\n",
    "    weight = input('請輸入您的體重(公斤)')\n",
    "    bmi = int(weight)/(int(height)/100)**2\n",
    "    print(f'您的BMI{bmi}')\n",
    "    \n",
    "\n",
    "def get_bmr(sex,height,weight,age):\n",
    "        sex = input('請入您的性別(男or女)')\n",
    "        height = input('請輸入年的身高(公分)')\n",
    "        weight = input('請輸入您的體重(公斤)')\n",
    "        age = input('請入您的年齡')\n",
    "        if sex == '男':\n",
    "            bmr = 66+(13.7*int(weight)+5*int(height)-6.8*int(age))\n",
    "        else:\n",
    "            bmr = 655+(9.6*int(weight)+1.8*int(height)-4.7*int(age))\n",
    "        bmr = round(bmr,2)\n",
    "        print(f'您的BMR{bmr}')\n",
    "\n",
    "def get_tdee(sex,height,weight,age,times):\n",
    "    sex = input('請入您的性別(男or女)')\n",
    "    height = input('請輸入年的身高(公分)')\n",
    "    weight = input('請輸入您的體重(公斤)')\n",
    "    age = input('請入您的年齡')\n",
    "    print('(1)久坐，幾乎沒運動')\n",
    "    print('(2)每周低強度運動1-3天')\n",
    "    print('(3)每周中強度運動3-5天')\n",
    "    print('(4)每周高強度運動6-7天')\n",
    "    print('(5)勞力密集工作強度或是每天高強度訓練')\n",
    "    times = input('請選擇您的運動量(輸入1-5)')\n",
    "    if sex == '男':\n",
    "        bmr = 66+(13.7*int(weight)+5*int(height)-6.8*int(age))\n",
    "        bmr = round(bmr,2)\n",
    "        if times == '1':\n",
    "                tdee = bmr*1.2\n",
    "        elif times == '2':\n",
    "                tdee = bmr*1.375\n",
    "        elif times == '3':\n",
    "                tdee = bmr*1.55\n",
    "        elif times == '4':\n",
    "                tdee = bmr*1.725\n",
    "        elif times == '5':\n",
    "                tdee = bmr*1.9\n",
    "        print(f'您的TDEE:{tdee}')\n",
    "\n",
    "    else:\n",
    "        bmr = 655+(9.6*int(weight)+1.8*int(height)-4.7*int(age))\n",
    "        bmr = round(bmr,2)\n",
    "        if times == '1':\n",
    "                tdee = bmr*1.2\n",
    "        elif times == '2':\n",
    "                tdee = bmr*1.375\n",
    "        elif times == '3':\n",
    "                tdee = bmr*1.55\n",
    "        elif times == '4':\n",
    "                tdee = bmr*1.725\n",
    "        elif times == '5':\n",
    "                tdee = bmr*1.9\n",
    "        print(f'您的TDEE:{tdee}')\n",
    "\n",
    "\n",
    "if item == '1':\n",
    "    get_bmi(height,weight)\n",
    "elif item == '2':\n",
    "    get_bmr(sex,height,weight,age)\n",
    "elif item == '3':\n",
    "    get_tdee(sex,height,weight,age,times)\n"
   ]
  },
  {
   "cell_type": "code",
   "execution_count": 49,
   "metadata": {},
   "outputs": [
    {
     "name": "stdout",
     "output_type": "stream",
     "text": [
      "歡迎使用健康綜合計算機\n",
      "(1)計算bmi\n",
      "(2)計算bmr\n",
      "(3)計算tdee\n",
      "請選擇要計算的項目(輸入1 or 2 or 3):3\n",
      "請入您的性別(男or女):女\n",
      "請輸入您的身高(公分):162\n",
      "請輸入您的體重(公斤):50\n",
      "(1)久坐，幾乎沒運動\n",
      "(2)每周低強度運動1-3天\n",
      "(3)每周中強度運動3-5天\n",
      "(4)每周高強度運動6-7天\n",
      "(5)勞力密集工作強度或是每天高強度訓練\n",
      "請選擇您的運動量(輸入1-5):1\n",
      "您的TDEE:1559.64\n"
     ]
    }
   ],
   "source": [
    "def get_bmi(height,weight):\n",
    "    bmi = int(weight)/(int(height)/100)**2\n",
    "    bmi = round(bmi,2)\n",
    "    return bmi\n",
    "    \n",
    "\n",
    "def get_bmr(sex,height,weight,age):\n",
    "    if sex == '男':\n",
    "        bmr = 66+(13.7*int(weight)+5*int(height)-6.8*int(age))\n",
    "    else:\n",
    "        bmr = 655+(9.6*int(weight)+1.8*int(height)-4.7*int(age))\n",
    "    bmr = round(bmr,2)\n",
    "    return bmr\n",
    "\n",
    "def get_tdee(sex,height,weight,age,times):\n",
    "    bmr = get_bmr(sex,height,weight,age)\n",
    "    if times == '1':\n",
    "        tdee = bmr*1.2\n",
    "    elif times == '2':\n",
    "        tdee = bmr*1.375\n",
    "    elif times == '3':\n",
    "        tdee = bmr*1.55\n",
    "    elif times == '4':\n",
    "        tdee = bmr*1.725\n",
    "    elif times == '5':\n",
    "        tdee = bmr*1.9\n",
    "    tdee = round(tdee,2)\n",
    "    return tdee\n",
    "\n",
    "      \n",
    "\n",
    "print('歡迎使用健康綜合計算機')\n",
    "print('(1)計算bmi')\n",
    "print('(2)計算bmr')\n",
    "print('(3)計算tdee')\n",
    "item = input('請選擇要計算的項目(輸入1 or 2 or 3)')\n",
    "print(f'請選擇要計算的項目(輸入1 or 2 or 3):{item}')\n",
    "\n",
    "if item == '1':\n",
    "    height = input('請輸入您的身高(公分)')\n",
    "    print(f'請輸入您的身高(公分):{height}')\n",
    "    weight = input('請輸入您的體重(公斤)')\n",
    "    print(f'請輸入您的體重(公斤):{weight}')\n",
    "    bmi = get_bmi(height,weight)\n",
    "    print(f'您的BMI{bmi}')\n",
    "elif item == '2':\n",
    "    sex = input('請入您的性別(男or女)')\n",
    "    print(f'請入您的性別(男or女):{sex}')\n",
    "    height = input('請輸入年的身高(公分)')\n",
    "    print(f'請輸入您的身高(公分):{height}')\n",
    "    weight = input('請輸入您的體重(公斤)')\n",
    "    print(f'請輸入您的體重(公斤):{weight}')\n",
    "    age = input('請入您的年齡')\n",
    "    print(f'請入您的年齡:{age}')\n",
    "    bmr = get_bmr(sex,height,weight,age)\n",
    "    print(f'您的BMR{bmr}')\n",
    "elif item == '3':\n",
    "    sex = input('請入您的性別(男or女)')\n",
    "    print(f'請入您的性別(男or女):{sex}')\n",
    "    height = input('請輸入年的身高(公分)')\n",
    "    print(f'請輸入您的身高(公分):{height}')\n",
    "    weight = input('請輸入您的體重(公斤)')\n",
    "    print(f'請輸入您的體重(公斤):{weight}')\n",
    "    age = input('請入您的年齡')\n",
    "    print('(1)久坐，幾乎沒運動')\n",
    "    print('(2)每周低強度運動1-3天')\n",
    "    print('(3)每周中強度運動3-5天')\n",
    "    print('(4)每周高強度運動6-7天')\n",
    "    print('(5)勞力密集工作強度或是每天高強度訓練')\n",
    "    times = input('請選擇您的運動量(輸入1-5)')\n",
    "    print(f'請選擇您的運動量(輸入1-5):{times}')\n",
    "    tdee = get_tdee(sex,height,weight,age,times)\n",
    "    print(f'您的TDEE:{tdee}')"
   ]
  },
  {
   "cell_type": "code",
   "execution_count": 53,
   "metadata": {},
   "outputs": [
    {
     "name": "stdout",
     "output_type": "stream",
     "text": [
      "歡迎使用健康綜合計算機\n",
      "(1)計算bmi\n",
      "(2)計算bmr\n",
      "(3)計算tdee\n",
      "請選擇要計算的項目(輸入1 or 2 or 3):3\n",
      "請入您的性別(男or女):女\n",
      "請輸入您的身高(公分):162\n",
      "請輸入您的體重(公斤):50\n",
      "(1)久坐，幾乎沒運動\n",
      "(2)每周低強度運動1-3天\n",
      "(3)每周中強度運動3-5天\n",
      "(4)每周高強度運動6-7天\n",
      "(5)勞力密集工作強度或是每天高強度訓練\n",
      "請選擇您的運動量(輸入1-5):1\n",
      "您的TDEE:1559.64\n"
     ]
    }
   ],
   "source": [
    "def get_bmi(height,weight):\n",
    "    bmi = int(weight)/(int(height)/100)**2\n",
    "    bmi = round(bmi,2)\n",
    "    return bmi\n",
    "    \n",
    "\n",
    "def get_bmr(sex,height,weight,age):\n",
    "    if sex == '男':\n",
    "        bmr = 66+(13.7*int(weight)+5*int(height)-6.8*int(age))\n",
    "    else:\n",
    "        bmr = 655+(9.6*int(weight)+1.8*int(height)-4.7*int(age))\n",
    "    bmr = round(bmr,2)\n",
    "    return bmr\n",
    "\n",
    "def get_tdee(sex,height,weight,age,times):\n",
    "    bmr = get_bmr(sex,height,weight,age)\n",
    "    tdee = bmr*times\n",
    "    tdee = round(tdee,2)\n",
    "    return tdee\n",
    "\n",
    "      \n",
    "\n",
    "print('歡迎使用健康綜合計算機')\n",
    "print('(1)計算bmi')\n",
    "print('(2)計算bmr')\n",
    "print('(3)計算tdee')\n",
    "item = input('請選擇要計算的項目(輸入1 or 2 or 3)')\n",
    "print(f'請選擇要計算的項目(輸入1 or 2 or 3):{item}')\n",
    "\n",
    "if item == '1':\n",
    "    height = input('請輸入您的身高(公分)')\n",
    "    print(f'請輸入您的身高(公分):{height}')\n",
    "    weight = input('請輸入您的體重(公斤)')\n",
    "    print(f'請輸入您的體重(公斤):{weight}')\n",
    "    bmi = get_bmi(height,weight)\n",
    "    print(f'您的BMI{bmi}')\n",
    "elif item == '2':\n",
    "    sex = input('請入您的性別(男or女)')\n",
    "    print(f'請入您的性別(男or女):{sex}')\n",
    "    height = input('請輸入年的身高(公分)')\n",
    "    print(f'請輸入您的身高(公分):{height}')\n",
    "    weight = input('請輸入您的體重(公斤)')\n",
    "    print(f'請輸入您的體重(公斤):{weight}')\n",
    "    age = input('請入您的年齡')\n",
    "    print(f'請入您的年齡:{age}')\n",
    "    bmr = get_bmr(sex,height,weight,age)\n",
    "    print(f'您的BMR{bmr}')\n",
    "elif item == '3':\n",
    "    sex = input('請入您的性別(男or女)')\n",
    "    print(f'請入您的性別(男or女):{sex}')\n",
    "    height = input('請輸入年的身高(公分)')\n",
    "    print(f'請輸入您的身高(公分):{height}')\n",
    "    weight = input('請輸入您的體重(公斤)')\n",
    "    print(f'請輸入您的體重(公斤):{weight}')\n",
    "    age = input('請入您的年齡')\n",
    "    print('(1)久坐，幾乎沒運動')\n",
    "    print('(2)每周低強度運動1-3天')\n",
    "    print('(3)每周中強度運動3-5天')\n",
    "    print('(4)每周高強度運動6-7天')\n",
    "    print('(5)勞力密集工作強度或是每天高強度訓練')\n",
    "    exer = input('請選擇您的運動量(輸入1-5)')\n",
    "    print(f'請選擇您的運動量(輸入1-5):{exer}')\n",
    "    time = 0\n",
    "    if exer == '1':\n",
    "        times = 1.2\n",
    "    elif exer == '2':\n",
    "        times = 1.375\n",
    "    elif exer == '3':\n",
    "        times = 1.55\n",
    "    elif exer == '4':\n",
    "        times = 1.725\n",
    "    elif exer == '5':\n",
    "        times = 1.9\n",
    "    tdee = get_tdee(sex,height,weight,age,times)\n",
    "    print(f'您的TDEE:{tdee}')"
   ]
  },
  {
   "cell_type": "code",
   "execution_count": 102,
   "metadata": {},
   "outputs": [
    {
     "name": "stdout",
     "output_type": "stream",
     "text": [
      "1\n",
      "正面\n"
     ]
    }
   ],
   "source": [
    "import random\n",
    "num = random.randint(1,2)\n",
    "print(num)\n",
    "if num == 1:\n",
    "    print('正面')\n",
    "else:\n",
    "    print('反面')"
   ]
  },
  {
   "cell_type": "code",
   "execution_count": 139,
   "metadata": {},
   "outputs": [
    {
     "name": "stdout",
     "output_type": "stream",
     "text": [
      "今晚吃 麵包\n"
     ]
    }
   ],
   "source": [
    "#今晚吃甚麼\n",
    "import random\n",
    "food = ['拉麵','生魚片','洞飯','火鍋','沙拉','麵包']\n",
    "num = random.randint(0,5)\n",
    "print(f'今晚吃 {food[num]}')"
   ]
  },
  {
   "cell_type": "code",
   "execution_count": 375,
   "metadata": {},
   "outputs": [
    {
     "name": "stdout",
     "output_type": "stream",
     "text": [
      "歡迎使用今天晚上吃甚麼~\n",
      "火,考,詐\n",
      "['火', '考', '詐']\n",
      "今天吃詐\n"
     ]
    }
   ],
   "source": [
    "#今晚吃甚麼\n",
    "               \n",
    "import random\n",
    "print('歡迎使用今天晚上吃甚麼~')\n",
    "food_enter = input('請輸入晚餐選項，中間用逗點隔開\\n')\n",
    "print(food_enter)\n",
    "food = food_enter.split(',')\n",
    "print(food)\n",
    "num = random.randint(0,(len(food)-1))\n",
    "print(f'今天吃{food[num]}')\n"
   ]
  },
  {
   "cell_type": "code",
   "execution_count": 325,
   "metadata": {},
   "outputs": [
    {
     "name": "stdout",
     "output_type": "stream",
     "text": [
      "你出\n",
      "\n",
      "    _______\n",
      "---'   ____)____\n",
      "          ______)\n",
      "       __________)\n",
      "      (____)\n",
      "---.__(___)\n",
      "\n",
      "電腦出\n",
      "\n",
      "    _______\n",
      "---'   ____)____\n",
      "          ______)\n",
      "          _______)\n",
      "         _______)\n",
      "---.__________)\n",
      "\n",
      "你贏!\n"
     ]
    }
   ],
   "source": [
    "import random\n",
    "\n",
    "scissor = '''\n",
    "    _______\n",
    "---'   ____)____\n",
    "          ______)\n",
    "       __________)\n",
    "      (____)\n",
    "---.__(___)\n",
    "'''\n",
    "\n",
    "rock = '''\n",
    "    _______\n",
    "---'   ____)\n",
    "      (_____)\n",
    "      (_____)\n",
    "      (____)\n",
    "---.__(___)\n",
    "'''\n",
    "\n",
    "paper = '''\n",
    "    _______\n",
    "---'   ____)____\n",
    "          ______)\n",
    "          _______)\n",
    "         _______)\n",
    "---.__________)\n",
    "'''\n",
    "\n",
    "you = input('請輸入字母:s(剪刀) r(石頭) p(布)')\n",
    "srp= [scissor,rock,paper]\n",
    "def your_ges(you):\n",
    "    if you == 's':\n",
    "        you_ges = 0\n",
    "    elif you == 'r':\n",
    "        you_ges = 1\n",
    "    elif you == \"p\":\n",
    "        you_ges = 2\n",
    "    return you_ges\n",
    "#print(your_ges(you))\n",
    "print(f'你出\\n{srp[your_ges(you)]}')\n",
    "\n",
    "\n",
    "num = random.randint(0,2)\n",
    "srp= [scissor,rock,paper]\n",
    "#print(num)\n",
    "print(f'電腦出\\n{srp[num]}')\n",
    "\n",
    "#rst = [[0,1,2][0,1,2]]\n",
    "rst = [your_ges(you),num]\n",
    "#print(rst)\n",
    "if (your_ges(you) == 0 and num == 0) or (your_ges(you) == 1 and num == 1)  or (your_ges(you) == 2 and num == 2):\n",
    "    print('平手')\n",
    "elif (your_ges(you) == 0 and num == 2) or (your_ges(you) == 1 and num == 0)  or (your_ges(you) == 2 and num == 1): \n",
    "#rst == [0,2] or [1,0] or [2,1]:\n",
    "    print('你贏!')\n",
    "elif (your_ges(you) == 0 and num == 1) or (your_ges(you) == 1 and num == 2)  or (your_ges(you) == 2 and num == 0): \n",
    "#rst == [0,1] or [1,2] or [2,0]:\n",
    "    print('你輸....')\n",
    "\n",
    "\n",
    "\n",
    "\n",
    "\n",
    "\n"
   ]
  },
  {
   "cell_type": "code",
   "execution_count": 88,
   "metadata": {},
   "outputs": [
    {
     "name": "stdout",
     "output_type": "stream",
     "text": [
      "你出\n",
      "\n",
      "    _______\n",
      "---'   ____)____\n",
      "          ______)\n",
      "       __________)\n",
      "      (____)\n",
      "---.__(___)\n",
      "\n",
      "電腦出\n",
      "\n",
      "    _______\n",
      "---'   ____)____\n",
      "          ______)\n",
      "          _______)\n",
      "         _______)\n",
      "---.__________)\n",
      "\n",
      "你贏!\n"
     ]
    }
   ],
   "source": [
    "import random\n",
    "\n",
    "scissor = '''\n",
    "    _______\n",
    "---'   ____)____\n",
    "          ______)\n",
    "       __________)\n",
    "      (____)\n",
    "---.__(___)\n",
    "'''\n",
    "\n",
    "rock = '''\n",
    "    _______\n",
    "---'   ____)\n",
    "      (_____)\n",
    "      (_____)\n",
    "      (____)\n",
    "---.__(___)\n",
    "'''\n",
    "\n",
    "paper = '''\n",
    "    _______\n",
    "---'   ____)____\n",
    "          ______)\n",
    "          _______)\n",
    "         _______)\n",
    "---.__________)\n",
    "'''\n",
    "\n",
    "you = input('請輸入字母:s(剪刀) r(石頭) p(布)')\n",
    "options= ['s','r','p']\n",
    "print('你出')\n",
    "if you == 's':\n",
    "    print(scissor)\n",
    "elif you == 'r':\n",
    "    print(rock)\n",
    "elif you == \"p\":\n",
    "    print(paper)\n",
    "\n",
    "print('電腦出')\n",
    "other = (options[random.randint(0,2)])\n",
    "if other == 's':\n",
    "    print(scissor)\n",
    "elif other == 'r':\n",
    "    print(rock)\n",
    "elif other == \"p\":\n",
    "    print(paper)\n",
    "\n",
    "#rst = [[0,1,2][0,1,2]]\n",
    "#rst = [your_ges(you),num]\n",
    "#print(rst)\n",
    "if you == other:\n",
    "    print('平手')\n",
    "elif (you == 's' and other == 'p') or (you == 'r' and other == 's')  or (you == 'p' and other == 'r'): \n",
    "    print('你贏!')\n",
    "elif (you == 's' and other == 'r') or (you == 'r' and other == 'p')  or (you == 'p' and other == 's'): \n",
    "    print('你輸....')"
   ]
  },
  {
   "cell_type": "code",
   "execution_count": 351,
   "metadata": {},
   "outputs": [
    {
     "name": "stdout",
     "output_type": "stream",
     "text": [
      "您的bmi是:19.53\n",
      "\n"
     ]
    }
   ],
   "source": [
    "\n",
    "height = input('請輸入你身高(公分)')\n",
    "weight = input('請輸入您的體重(公斤)')\n",
    "bmi = int(weight)/(int(height)/100)**2\n",
    "print(f'您的bmi是:{round(bmi,2)}')\n",
    "reply = input('您還要再計算嗎?(請輸入y or n)')\n",
    "\n",
    "while reply != 'n':\n",
    "    height = input('請輸入你身高(公分)')\n",
    "    weight = input('請輸入您的體重(公斤)')\n",
    "    bmi = int(weight)/(int(height)/100)**2\n",
    "    print(f'您的bmi是:{round(bmi,2)}')\n",
    "    reply = input('您還要再計算嗎?(請輸入y or n)')\n",
    "print('')\n",
    "#print('結束使用')\n"
   ]
  },
  {
   "cell_type": "code",
   "execution_count": 90,
   "metadata": {},
   "outputs": [
    {
     "name": "stdout",
     "output_type": "stream",
     "text": [
      "您的bmi是:20.66\n"
     ]
    }
   ],
   "source": [
    "use = True\n",
    "while use:\n",
    "    height = input('請輸入你身高(公分)')\n",
    "    weight = input('請輸入您的體重(公斤)')\n",
    "    bmi = int(weight)/(int(height)/100)**2\n",
    "    print(f'您的bmi是:{round(bmi,2)}')\n",
    "    reply = input('您還要再計算嗎?(請輸入y or n)')\n",
    "    if reply == 'n': \n",
    "        use = False"
   ]
  },
  {
   "cell_type": "code",
   "execution_count": 394,
   "metadata": {},
   "outputs": [
    {
     "name": "stdout",
     "output_type": "stream",
     "text": [
      "<class 'list'>\n",
      "750\n"
     ]
    }
   ],
   "source": [
    "scores = [100,20,50,60,80,90,100,80,100,70]\n",
    "print(type(scores))\n",
    "sum = 0\n",
    "for i in scores:\n",
    "    sum += i\n",
    "print(sum)\n"
   ]
  },
  {
   "cell_type": "code",
   "execution_count": 9,
   "metadata": {},
   "outputs": [
    {
     "name": "stdout",
     "output_type": "stream",
     "text": [
      "1\n"
     ]
    }
   ],
   "source": [
    "scores_enter = input('請輸入學生成績，用逗號隔開')\n",
    "scores = scores_enter.split(',')\n",
    "lowest = 100\n",
    "for score in scores:\n",
    "    if int(score) < lowest:\n",
    "        lowest = int(score)\n",
    "print(lowest)\n",
    "\n",
    "\n"
   ]
  },
  {
   "cell_type": "code",
   "execution_count": 13,
   "metadata": {},
   "outputs": [
    {
     "name": "stdout",
     "output_type": "stream",
     "text": [
      "1275\n"
     ]
    }
   ],
   "source": [
    "#1到50的加總\n",
    "sum = 0\n",
    "for i in range(1,51):\n",
    "    sum += i\n",
    "print(sum)"
   ]
  },
  {
   "cell_type": "code",
   "execution_count": 26,
   "metadata": {},
   "outputs": [
    {
     "name": "stdout",
     "output_type": "stream",
     "text": [
      "2550\n",
      "2550\n"
     ]
    }
   ],
   "source": [
    "#1到100的偶數總和\n",
    "sum = 0\n",
    "\n",
    "for i in range(0,101,2):\n",
    "    sum += i\n",
    "print(sum)\n",
    "\n",
    "\n",
    "#1到100的偶數總和\n",
    "sum = 0\n",
    "\n",
    "for i in range(1,101):\n",
    "    if i % 2== 0:\n",
    "        sum += i\n",
    "print(sum)"
   ]
  },
  {
   "cell_type": "code",
   "execution_count": 117,
   "metadata": {},
   "outputs": [
    {
     "name": "stdout",
     "output_type": "stream",
     "text": [
      "QUqg02#^\n",
      "#2^qQ0Ug\n"
     ]
    }
   ],
   "source": [
    "import random\n",
    "letters_upper = [\"A\", \"B\", \"C\", \"D\", \"E\", \"F\", \"G\", \"H\", \"I\", \"J\",\n",
    "                 \"K\", \"L\", \"M\", \"N\", \"O\", \"P\", \"Q\", \"R\", \"S\", \"T\",\n",
    "                 \"U\", \"V\", \"W\", \"X\", \"Y\", \"Z\"]\n",
    "\n",
    "letters_lower = [\"a\", \"b\", \"c\", \"d\", \"e\", \"f\", \"g\", \"h\", \"i\", \"j\",\n",
    "                 \"k\", \"l\", \"m\", \"n\", \"o\", \"p\", \"q\", \"r\", \"s\", \"t\",\n",
    "                 \"u\", \"v\", \"w\", \"x\", \"y\", \"z\"]\n",
    "\n",
    "numbers = [\"0\", \"1\", \"2\", \"3\", \"4\", \"5\", \"6\", \"7\", \"8\", \"9\"]\n",
    "\n",
    "symbols = [\"!\", \"@\", \"#\", \"$\", \"%\", \"^\", \"&\", \"*\", \"-\", \"+\"]\n",
    "\n",
    "letter_upper_num = int(input('請輸入幾個大寫字母'))\n",
    "letter_lower_num = int(input('請輸入幾個小寫字母'))\n",
    "numbers_num = int(input('請輸入幾個數字'))\n",
    "symbols_num = int(input('請輸入幾個符號'))\n",
    "\n",
    "password = ''\n",
    "for i in range(0,letter_upper_num):\n",
    "    password += letters_upper[random.randint(0,25)]\n",
    "\n",
    "for i in range(0,letter_lower_num):\n",
    "    password += letters_lower[random.randint(0,25)]\n",
    "\n",
    "for i in range(0,numbers_num):\n",
    "    password += numbers[random.randint(0,9)]\n",
    "\n",
    "for i in range(0,symbols_num):\n",
    "    password += symbols[random.randint(0,9)]\n",
    "print (password)\n",
    "\n",
    "password_list = list(password)\n",
    "random.shuffle(password_list)\n",
    "new_password =''\n",
    "for i in password_list:\n",
    "    new_password += i\n",
    "print(new_password)\n",
    "\n"
   ]
  },
  {
   "cell_type": "code",
   "execution_count": 112,
   "metadata": {},
   "outputs": [
    {
     "name": "stdout",
     "output_type": "stream",
     "text": [
      "I love EGGS so much.\n",
      "I want to have EGGS as my breakfast!\n",
      "\n",
      "I love MILK so much.\n",
      "I want to have MILK as my breakfast!\n",
      "\n",
      "I love APPLES so much.\n",
      "I want to have APPLES as my breakfast!\n",
      "\n",
      "I love SANDWICHES so much.\n",
      "I want to have SANDWICHES as my breakfast!\n",
      "\n"
     ]
    }
   ],
   "source": [
    "breakfast = ['eggs', 'milk', 'apples', 'sandwiches']\n",
    "for food in breakfast[0:4]:\n",
    "    print('I love ' + food.upper() + ' so much.')\n",
    "    print('I want to have ' + food.upper() + ' as my breakfast!\\n')\n"
   ]
  },
  {
   "cell_type": "code",
   "execution_count": 119,
   "metadata": {},
   "outputs": [
    {
     "name": "stdout",
     "output_type": "stream",
     "text": [
      "{'小白': '一般客戶', '小黑': '一般客戶', '小黃': 'VIP', '小綠': 'VIP', '小灰': '一般客戶'}\n"
     ]
    }
   ],
   "source": [
    "customer_spending = {\n",
    "\t\"小白\": 2000,\n",
    "    \"小黑\": 3000,\n",
    "    \"小黃\": 12000,\n",
    "    \"小綠\": 15000,\n",
    "    \"小灰\": 8000\n",
    "}\n",
    "\n",
    "for customer in customer_spending:\n",
    "    if customer_spending[customer] >=10000:\n",
    "        customer_spending[customer] = 'VIP' \n",
    "        #print(f'{customer} : VIP' )\n",
    "    else:\n",
    "        customer_spending[customer] = '一般客戶'\n",
    "        #print(f'{customer}: 一般客戶')\n",
    "\n",
    "print(customer_spending)"
   ]
  },
  {
   "cell_type": "code",
   "execution_count": 265,
   "metadata": {},
   "outputs": [
    {
     "name": "stdout",
     "output_type": "stream",
     "text": [
      "23\n",
      "小白\n",
      "小白\n",
      "[{'age': 23, 'height': 170.5, 'weight': 60}, {'age': 30, 'height': 160.5, 'weight': 38}, {'age': 15, 'height': 160.5, 'weight': 38}]\n",
      "{'age': 23, 'height': 170.5, 'weight': 60}\n",
      "23\n",
      "1\n",
      "抽到的是:小黃\n",
      "年紀是:30\n",
      "身高是:160.5\n",
      "體重是:38\n"
     ]
    }
   ],
   "source": [
    "\n",
    "import random\n",
    "\n",
    "students = {\n",
    "    \"小白\": {\n",
    "        \"age\": 23,\n",
    "        \"height\": 170.5,\n",
    "        \"weight\": 60\n",
    "    },\n",
    "    \"小黃\": {\n",
    "        \"age\": 30,\n",
    "        \"height\": 160.5,\n",
    "        \"weight\": 38\n",
    "    },\n",
    "    \"小綠\": {\n",
    "        \"age\": 15,\n",
    "        \"height\": 160.5,\n",
    "        \"weight\": 38\n",
    "    }\n",
    "}\n",
    "\n",
    "print(students['小白']['age'])\n",
    "print(list(students)[0])\n",
    "print(list(students.keys())[0])\n",
    "print(list(students.values()))\n",
    "print(list(students.values())[0])\n",
    "print(list(students.values())[0]['age'])\n",
    "\n",
    "num = random.randint(0,2)\n",
    "print(num)\n",
    "\"\"\"\n",
    "name = list(students)[num]\n",
    "age = list(students.values())[num]['age']\n",
    "height = list(students.values())[num]['height']\n",
    "weight = list(students.values())[num]['weight']\n",
    "\"\"\"\n",
    "\n",
    "print(f'抽到的是:{list(students)[num]}')\n",
    "print(f'年紀是:{list(students.values())[num][\"age\"]}')\n",
    "print(f'身高是:{list(students.values())[num][\"height\"]}')\n",
    "print(f'體重是:{list(students.values())[num][\"weight\"]}')"
   ]
  },
  {
   "cell_type": "code",
   "execution_count": 256,
   "metadata": {},
   "outputs": [
    {
     "name": "stdout",
     "output_type": "stream",
     "text": [
      "抽到的是:小黃\n",
      "年紀是:30\n",
      "身高是:160.5\n",
      "體重是:38\n"
     ]
    }
   ],
   "source": [
    "\n",
    "import random\n",
    "\n",
    "students = {\n",
    "    \"小白\": {\n",
    "        \"age\": 23,\n",
    "        \"height\": 170.5,\n",
    "        \"weight\": 60\n",
    "    },\n",
    "    \"小黃\": {\n",
    "        \"age\": 30,\n",
    "        \"height\": 160.5,\n",
    "        \"weight\": 38\n",
    "    },\n",
    "    \"小綠\": {\n",
    "        \"age\": 15,\n",
    "        \"height\": 160.5,\n",
    "        \"weight\": 38\n",
    "    }\n",
    "}\n",
    "\n",
    "name = list(students)[random.randint(0,2)]\n",
    "\n",
    "print(f'抽到的是:{name}')\n",
    "print(f'年紀是:{students[name][\"age\"]}')\n",
    "print(f'身高是:{students[name][\"height\"]}')\n",
    "print(f'體重是:{students[name][\"weight\"]}')"
   ]
  },
  {
   "cell_type": "code",
   "execution_count": 365,
   "metadata": {},
   "outputs": [
    {
     "name": "stdout",
     "output_type": "stream",
     "text": [
      "第1題\n",
      "請問香蕉的英文是: d\n",
      "答錯了...答案為:banana\n",
      "\n",
      "總共1題 答對了0題\n",
      "['蘋果', '香蕉', '貓', '狗', '蛋', '食物', '遊戲', '手', '冰', '果醬', '國王', '標籤', '郵件', '脖子', '油', '豬', '皇后']\n",
      "{'蘋果': 'apple', '香蕉': 'banana', '貓': 'cat', '狗': 'dog', '蛋': 'egg', '食物': 'food', '遊戲': 'game', '手': 'hand', '冰': 'ice', '果醬': 'jam', '國王': 'king', '標籤': 'label', '郵件': 'mail', '脖子': 'neck', '油': 'oil', '豬': 'pig', '皇后': 'queen'}\n"
     ]
    }
   ],
   "source": [
    "import random\n",
    "eng_dic = {\n",
    "    \"蘋果\": \"apple\",\n",
    "    \"香蕉\": \"banana\",\n",
    "    \"貓\": \"cat\",\n",
    "    \"狗\": \"dog\",\n",
    "    \"蛋\": \"egg\",\n",
    "    \"食物\": \"food\",\n",
    "    \"遊戲\": \"game\",\n",
    "    \"手\": \"hand\",\n",
    "    \"冰\": \"ice\",\n",
    "    \"果醬\": \"jam\",\n",
    "    \"國王\": \"king\",\n",
    "    \"標籤\": \"label\",\n",
    "    \"郵件\": \"mail\",\n",
    "    \"脖子\": \"neck\",\n",
    "    \"油\": \"oil\",\n",
    "    \"豬\": \"pig\",\n",
    "    \"皇后\": \"queen\"\n",
    "}\n",
    "num = int(input('請問要練習幾題?'))\n",
    "yes_answer = 0\n",
    "for i in range(1,num+1):\n",
    "    question = list(eng_dic)[random.randint(0,len(eng_dic)-1)]\n",
    "    print(f'第{i}題')\n",
    "    print('請問' + question + '的英文是:',end=' ')\n",
    "    answer = input('請問' + question + '的英文是:') \n",
    "    print(answer)\n",
    "    if answer == eng_dic[question]:\n",
    "        print('恭喜答對!')\n",
    "        yes_answer += 1 \n",
    "    else:\n",
    "        print(f'答錯了...答案為:{eng_dic[question]}')\n",
    "print()\n",
    "print(f'總共{i}題 答對了{(yes_answer)}題')\n",
    "\n",
    "\n"
   ]
  },
  {
   "cell_type": "code",
   "execution_count": 396,
   "metadata": {},
   "outputs": [
    {
     "name": "stdout",
     "output_type": "stream",
     "text": [
      "50\n",
      "90\n",
      "100\n",
      "100\n"
     ]
    }
   ],
   "source": [
    "scores = [50,90,100,80,70,100,60,20,100,80,70,100]\n",
    "highest = 0\n",
    "\n",
    "for score in scores:\n",
    "    print(score)\n",
    "    if score == 100:\n",
    "        highest = 100\n",
    "        break\n",
    "    elif score>highest:\n",
    "        highest = score\n",
    "print(score)\n",
    "\n",
    "i = 1\n",
    "while i<6:\n",
    "    if i ==3:\n",
    "        i+= 1\n",
    "        continue\n",
    "    print(i)\n",
    "    i += 1\n"
   ]
  },
  {
   "cell_type": "code",
   "execution_count": 453,
   "metadata": {},
   "outputs": [
    {
     "name": "stdout",
     "output_type": "stream",
     "text": [
      "第1次猜測\n",
      "請輸入猜測的數字:50\n",
      "小一點\n",
      "第2次猜測\n",
      "請輸入猜測的數字:40\n",
      "小一點\n",
      "第3次猜測\n",
      "請輸入猜測的數字:30\n",
      "小一點\n",
      "第4次猜測\n",
      "請輸入猜測的數字:20\n",
      "大一點\n",
      "第5次猜測\n",
      "請輸入猜測的數字:25\n",
      "恭喜答對了!\n"
     ]
    }
   ],
   "source": [
    "import random\n",
    "num = random.randint(1,101)\n",
    "\n",
    "for i in range (1,7):\n",
    "    if i == 6:\n",
    "        print('你輸了 超過猜測次數~')\n",
    "        print(f'謎底為:{num}')\n",
    "        break\n",
    "    print(f'第{i}次猜測')\n",
    "    num_guess = input('請輸入猜測的數字:')\n",
    "    print(f'請輸入猜測的數字:{num_guess}')\n",
    "    if num_guess.isdigit():\n",
    "        num_guess = int(num_guess)\n",
    "    else:\n",
    "        print('請輸入數字整數')\n",
    "        continue\n",
    "    if num == int(num_guess):\n",
    "        print('恭喜答對了!')\n",
    "        break\n",
    "    elif num < int(num_guess):\n",
    "        print('小一點')\n",
    "    elif num > int(num_guess):\n",
    "        print('大一點')\n",
    "\n",
    "\n",
    "\n"
   ]
  },
  {
   "cell_type": "code",
   "execution_count": 457,
   "metadata": {},
   "outputs": [
    {
     "name": "stdout",
     "output_type": "stream",
     "text": [
      "第1次猜測\n",
      "請輸入猜測的數字:5\n",
      "大一點\n",
      "第2次猜測\n",
      "請輸入猜測的數字:4\n",
      "大一點\n",
      "第3次猜測\n",
      "請輸入猜測的數字:5\n",
      "大一點\n",
      "第4次猜測\n",
      "請輸入猜測的數字:6\n",
      "大一點\n",
      "第5次猜測\n",
      "請輸入猜測的數字:1\n",
      "大一點\n",
      "你輸了 超過猜測次數~\n",
      "謎底為:50\n"
     ]
    }
   ],
   "source": [
    "import random\n",
    "#num = random.randint(1,101)\n",
    "num = 50\n",
    "\n",
    "i = 0\n",
    "while True:\n",
    "    i += 1\n",
    "    if i == 6:\n",
    "        print('你輸了 超過猜測次數~')\n",
    "        print(f'謎底為:{num}')\n",
    "        break\n",
    "    print(f'第{i}次猜測')\n",
    "    num_guess = input('請輸入猜測的數字:')\n",
    "    print(f'請輸入猜測的數字:{num_guess}')\n",
    "    if num_guess.isdigit():\n",
    "        num_guess = int(num_guess)\n",
    "    else:\n",
    "        print('請輸入數字整數')\n",
    "        continue\n",
    "    if num == int(num_guess):\n",
    "        print('恭喜答對了!')\n",
    "        break\n",
    "    elif num < int(num_guess):\n",
    "        print('小一點')\n",
    "    elif num > int(num_guess):\n",
    "        print('大一點')"
   ]
  },
  {
   "cell_type": "code",
   "execution_count": null,
   "metadata": {},
   "outputs": [],
   "source": []
  }
 ],
 "metadata": {
  "kernelspec": {
   "display_name": "base",
   "language": "python",
   "name": "python3"
  },
  "language_info": {
   "codemirror_mode": {
    "name": "ipython",
    "version": 3
   },
   "file_extension": ".py",
   "mimetype": "text/x-python",
   "name": "python",
   "nbconvert_exporter": "python",
   "pygments_lexer": "ipython3",
   "version": "3.11.3"
  },
  "orig_nbformat": 4
 },
 "nbformat": 4,
 "nbformat_minor": 2
}
