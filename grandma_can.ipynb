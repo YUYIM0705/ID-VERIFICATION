{
 "cells": [
  {
   "cell_type": "code",
   "execution_count": 2,
   "metadata": {},
   "outputs": [
    {
     "name": "stdout",
     "output_type": "stream",
     "text": [
      "Hello 123! You are 5 years old!\n"
     ]
    }
   ],
   "source": [
    "print('Hello ' + input('請問你的名字是?')+'!' \n",
    "      + ' You are ' + input('請問你今年幾歲?') + ' years old!')\n"
   ]
  },
  {
   "cell_type": "code",
   "execution_count": 51,
   "metadata": {},
   "outputs": [
    {
     "name": "stdout",
     "output_type": "stream",
     "text": [
      "小黃今天18歲\n",
      "早上起床小黃吃了漢堡\n"
     ]
    }
   ],
   "source": [
    "name = '小黃'\n",
    "print( name + '今天18歲')\n",
    "print( '早上起床' + name + '吃了漢堡')"
   ]
  },
  {
   "cell_type": "code",
   "execution_count": 56,
   "metadata": {},
   "outputs": [
    {
     "name": "stdout",
     "output_type": "stream",
     "text": [
      "3\n",
      "4\n"
     ]
    }
   ],
   "source": [
    "number1 = input('請輸入第1個數字')\n",
    "number2 = input('請輸入第2個數字')\n",
    "\n",
    "buf = number1\n",
    "number1 = number2\n",
    "number2 = buf\n",
    "\n",
    "print(number1)\n",
    "print(number2)"
   ]
  },
  {
   "cell_type": "code",
   "execution_count": 58,
   "metadata": {},
   "outputs": [
    {
     "name": "stdout",
     "output_type": "stream",
     "text": [
      "歡迎使用自我介紹產生器\n",
      "大家好我是Jenny, 今年27歲, 我很喜歡逛街, 很高興認識大家!\n"
     ]
    }
   ],
   "source": [
    "#自我介紹產生器\n",
    "print('歡迎使用自我介紹產生器')\n",
    "name = input('請輸入您的名字 : ')\n",
    "age = input('請輸入您的年紀 : ')\n",
    "interest = input('請輸入您的興趣 : ')\n",
    "print('大家好我是'+ name + ', 今年' + age +'歲, 我很喜歡' \n",
    "      + interest + ', 很高興認識大家!')\n"
   ]
  },
  {
   "cell_type": "code",
   "execution_count": 11,
   "metadata": {},
   "outputs": [
    {
     "name": "stdout",
     "output_type": "stream",
     "text": [
      "pass\n"
     ]
    }
   ],
   "source": [
    "score = 60\n",
    "\n",
    "if score == 60:\n",
    "    print(\"pass\")\n",
    "else:\n",
    "    print('false')"
   ]
  },
  {
   "cell_type": "code",
   "execution_count": 23,
   "metadata": {},
   "outputs": [
    {
     "name": "stdout",
     "output_type": "stream",
     "text": [
      "12\n",
      "偶數\n"
     ]
    }
   ],
   "source": [
    "number  = int((input('請輸入一個整數\\n')))\n",
    "print(number)\n",
    "\n",
    "if number % 2 == 0:\n",
    "    print('偶數')\n",
    "else:\n",
    "    print('奇數')\n"
   ]
  }
 ],
 "metadata": {
  "kernelspec": {
   "display_name": "base",
   "language": "python",
   "name": "python3"
  },
  "language_info": {
   "codemirror_mode": {
    "name": "ipython",
    "version": 3
   },
   "file_extension": ".py",
   "mimetype": "text/x-python",
   "name": "python",
   "nbconvert_exporter": "python",
   "pygments_lexer": "ipython3",
   "version": "3.11.3"
  },
  "orig_nbformat": 4
 },
 "nbformat": 4,
 "nbformat_minor": 2
}
